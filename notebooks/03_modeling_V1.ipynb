{
 "cells": [
  {
   "cell_type": "markdown",
   "id": "60cf332a",
   "metadata": {},
   "source": [
    "## Importes"
   ]
  },
  {
   "cell_type": "code",
   "execution_count": 1,
   "id": "2ad60487",
   "metadata": {},
   "outputs": [],
   "source": [
    "# Utils\n",
    "import pandas as pd\n",
    "from copy import deepcopy\n",
    "from sklearn.preprocessing import Normalizer, StandardScaler\n",
    "import warnings\n",
    "from pathlib import Path\n",
    "\n",
    "# Avaliação, Pontuação e Divisão\n",
    "from sklearn.metrics import accuracy_score\n",
    "from sklearn.model_selection import KFold, train_test_split, cross_val_score\n",
    "\n",
    "# Salvando e carregando o modelo\n",
    "import pickle\n",
    "\n",
    "# Visualização de Dados\n",
    "import matplotlib.pyplot as plt\n",
    "import seaborn as sns\n",
    "\n",
    "# Modelos\n",
    "from sklearn.svm import SVC\n",
    "from sklearn.tree import DecisionTreeClassifier\n",
    "from sklearn.discriminant_analysis import LinearDiscriminantAnalysis\n",
    "from sklearn.naive_bayes import GaussianNB\n",
    "from sklearn.neighbors import KNeighborsClassifier\n",
    "from sklearn.ensemble import RandomForestClassifier, ExtraTreesClassifier, BaggingClassifier\n",
    "\n",
    "##\n",
    "warnings.filterwarnings(\"ignore\")"
   ]
  },
  {
   "cell_type": "markdown",
   "id": "e6a17cee",
   "metadata": {},
   "source": [
    "## Configurações"
   ]
  },
  {
   "cell_type": "code",
   "execution_count": 2,
   "id": "f009ff2d",
   "metadata": {},
   "outputs": [],
   "source": [
    "# Caminhos\n",
    "data_path =  Path('../data/02_outputs')\n",
    "save_model_path = Path('../models')\n",
    "\n",
    "# Configurações de modelo\n",
    "test_size = 0.2\n",
    "num_folds = 4\n",
    "seed = 5\n",
    "num_trees = 20"
   ]
  },
  {
   "cell_type": "markdown",
   "id": "eb5a6be7",
   "metadata": {},
   "source": [
    "## Modelagem"
   ]
  },
  {
   "cell_type": "code",
   "execution_count": 3,
   "id": "81cbcc33",
   "metadata": {},
   "outputs": [
    {
     "name": "stdout",
     "output_type": "stream",
     "text": [
      "LDA: 0.662927 (0.039841)\n",
      "NB: 0.640675 (0.026346)\n",
      "KNN: 0.618437 (0.034076)\n",
      "DTC: 0.543943 (0.011287)\n",
      "SVM: 0.671820 (0.035562)\n",
      "RFC: 0.637356 (0.031721)\n"
     ]
    }
   ],
   "source": [
    "# Carregando os dados\n",
    "df = pd.read_csv(data_path / '02_to_model_v1.csv')\n",
    "\n",
    "# Separando o array em componentes de input e output\n",
    "array = df.values\n",
    "X = array[:,:-1]\n",
    "Y = array[:,-1]\n",
    "\n",
    "# Padronizando os dados\n",
    "scaler = StandardScaler().fit(X)\n",
    "X = scaler.transform(X)\n",
    "\n",
    "# Preparando lista de modelos\n",
    "models = []\n",
    "models.append(('LDA', LinearDiscriminantAnalysis()))\n",
    "models.append(('NB', GaussianNB()))\n",
    "models.append(('KNN', KNeighborsClassifier()))\n",
    "models.append(('DTC', DecisionTreeClassifier()))\n",
    "models.append(('SVM', SVC()))\n",
    "models.append(('RFC', RandomForestClassifier()))\n",
    "\n",
    "# Avaliando cada modelos em loop\n",
    "results = []\n",
    "names = []\n",
    "\n",
    "for name, model in models:\n",
    "    kfold = KFold(n_splits = num_folds, random_state = seed, shuffle=True)\n",
    "    cv_results = cross_val_score(model, X, Y, cv = kfold, scoring = 'accuracy')\n",
    "    results.append(cv_results)\n",
    "    names.append(name)\n",
    "    msg = \"%s: %4f (%f)\" % (name, cv_results.mean(), cv_results.std())\n",
    "    print(msg)"
   ]
  },
  {
   "cell_type": "markdown",
   "id": "f83227a9",
   "metadata": {},
   "source": [
    "O Decision Tree Classifier foi o modelo menos performático, logo será excluído da próxima etapa."
   ]
  },
  {
   "cell_type": "markdown",
   "id": "2322e5d3",
   "metadata": {},
   "source": [
    "## Otimização"
   ]
  },
  {
   "cell_type": "code",
   "execution_count": 4,
   "id": "184e34fa",
   "metadata": {},
   "outputs": [
    {
     "name": "stdout",
     "output_type": "stream",
     "text": [
      "LDA - Accuracy: 66.63% (0.0381)\n",
      "NB - Accuracy: 64.07% (0.0326)\n",
      "KNN - Accuracy: 62.18% (0.0356)\n",
      "SVM - Accuracy: 67.40% (0.0327)\n",
      "RFC - Accuracy: 65.74% (0.0300)\n"
     ]
    }
   ],
   "source": [
    "# Separando dados em folds\n",
    "kfold = KFold(n_splits=num_folds, shuffle=True, random_state = seed)\n",
    "\n",
    "\n",
    "# Lista dos melhores modelos avaliadas na etapa anterior\n",
    "best_models = [('LDA', LinearDiscriminantAnalysis()), \n",
    "               ('NB', GaussianNB()),\n",
    "               ('KNN', KNeighborsClassifier()),\n",
    "               ('SVM', SVC()),\n",
    "               ('RFC', RandomForestClassifier())]\n",
    "\n",
    "# Criando um dict para armazenar modelos resultantes\n",
    "results = dict()\n",
    "\n",
    "for name, model_ in best_models:\n",
    "    \n",
    "    model = BaggingClassifier(base_estimator = model_, n_estimators = num_trees, random_state = seed)\n",
    "    results[name] = model\n",
    "    result = cross_val_score(model, X, Y, cv = kfold)\n",
    "    \n",
    "    print(name, \"- Accuracy: %.2f%% (%.4f)\" % (result.mean() * 100,  result.std()))"
   ]
  },
  {
   "cell_type": "markdown",
   "id": "74da25c0",
   "metadata": {},
   "source": [
    "O Modelos selecionado será o Support Vector Machines"
   ]
  },
  {
   "cell_type": "code",
   "execution_count": 5,
   "id": "1eb04633",
   "metadata": {},
   "outputs": [],
   "source": [
    "selected_model = results['SVM']\n",
    "\n",
    "# Saving model\n",
    "with open(save_model_path / 'model_v1_SVM.pkl','wb') as f:\n",
    "    pickle.dump(selected_model,f)"
   ]
  }
 ],
 "metadata": {
  "kernelspec": {
   "display_name": "Python 3 (ipykernel)",
   "language": "python",
   "name": "python3"
  },
  "language_info": {
   "codemirror_mode": {
    "name": "ipython",
    "version": 3
   },
   "file_extension": ".py",
   "mimetype": "text/x-python",
   "name": "python",
   "nbconvert_exporter": "python",
   "pygments_lexer": "ipython3",
   "version": "3.9.12"
  }
 },
 "nbformat": 4,
 "nbformat_minor": 5
}
