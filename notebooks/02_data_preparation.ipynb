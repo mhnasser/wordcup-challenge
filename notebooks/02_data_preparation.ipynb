{
 "cells": [
  {
   "cell_type": "markdown",
   "id": "dabd241d",
   "metadata": {},
   "source": [
    "## Importes"
   ]
  },
  {
   "cell_type": "code",
   "execution_count": 1,
   "id": "29b1ac10",
   "metadata": {},
   "outputs": [],
   "source": [
    "# Utils\n",
    "import pandas as pd\n",
    "import numpy as np\n",
    "import warnings\n",
    "from pathlib import Path\n",
    "\n",
    "# Modeling / Evaluating / DataPrep\n",
    "import sklearn\n",
    "from sklearn.ensemble import ExtraTreesClassifier\n",
    "\n",
    "# Visualization\n",
    "import matplotlib.pyplot as plt\n",
    "\n",
    "warnings.filterwarnings(\"ignore\")"
   ]
  },
  {
   "cell_type": "markdown",
   "id": "223324f2",
   "metadata": {},
   "source": [
    "## Configurações"
   ]
  },
  {
   "cell_type": "code",
   "execution_count": 2,
   "id": "ca158af3",
   "metadata": {},
   "outputs": [],
   "source": [
    "data_path =  Path('../data/02_outputs')"
   ]
  },
  {
   "cell_type": "markdown",
   "id": "0bf9dd5f",
   "metadata": {},
   "source": [
    "## Preparação dos Dados"
   ]
  },
  {
   "cell_type": "code",
   "execution_count": 3,
   "id": "716f4715",
   "metadata": {},
   "outputs": [
    {
     "data": {
      "text/plain": [
       "Index(['away_rank', 'away_score', 'rank_diff', 'score_diff'], dtype='object')"
      ]
     },
     "execution_count": 3,
     "metadata": {},
     "output_type": "execute_result"
    }
   ],
   "source": [
    "# checando dados missing\n",
    "df = pd.read_csv(data_path / '01_matches_eco_score.csv')\n",
    "\n",
    "df.columns[df.isnull().any()]"
   ]
  },
  {
   "cell_type": "code",
   "execution_count": 4,
   "id": "a7e7a40f",
   "metadata": {},
   "outputs": [
    {
     "data": {
      "text/plain": [
       "Index(['away_rank', 'away_score', 'rank_diff', 'score_diff'], dtype='object')"
      ]
     },
     "execution_count": 4,
     "metadata": {},
     "output_type": "execute_result"
    }
   ],
   "source": [
    "# checando dados missing\n",
    "df.columns[df.isnull().any()]"
   ]
  },
  {
   "cell_type": "code",
   "execution_count": 5,
   "id": "5efe60ef",
   "metadata": {
    "scrolled": true
   },
   "outputs": [
    {
     "data": {
      "text/html": [
       "<div>\n",
       "<style scoped>\n",
       "    .dataframe tbody tr th:only-of-type {\n",
       "        vertical-align: middle;\n",
       "    }\n",
       "\n",
       "    .dataframe tbody tr th {\n",
       "        vertical-align: top;\n",
       "    }\n",
       "\n",
       "    .dataframe thead th {\n",
       "        text-align: right;\n",
       "    }\n",
       "</style>\n",
       "<table border=\"1\" class=\"dataframe\">\n",
       "  <thead>\n",
       "    <tr style=\"text-align: right;\">\n",
       "      <th></th>\n",
       "      <th>match_date</th>\n",
       "      <th>home_team_name</th>\n",
       "      <th>away_team_name</th>\n",
       "      <th>home_team_score</th>\n",
       "      <th>away_team_score</th>\n",
       "      <th>year</th>\n",
       "      <th>home_rank</th>\n",
       "      <th>home_score</th>\n",
       "      <th>away_rank</th>\n",
       "      <th>away_score</th>\n",
       "      <th>home_n_participation</th>\n",
       "      <th>away_n_participation</th>\n",
       "      <th>home_winner</th>\n",
       "      <th>draw</th>\n",
       "      <th>away_winner</th>\n",
       "      <th>rank_diff</th>\n",
       "      <th>team_score_diff</th>\n",
       "      <th>score_diff</th>\n",
       "      <th>best_rank_winner</th>\n",
       "    </tr>\n",
       "  </thead>\n",
       "  <tbody>\n",
       "    <tr>\n",
       "      <th>649</th>\n",
       "      <td>2006-06-11</td>\n",
       "      <td>Serbia and Montenegro</td>\n",
       "      <td>Netherlands</td>\n",
       "      <td>0</td>\n",
       "      <td>1</td>\n",
       "      <td>2006</td>\n",
       "      <td>40.0</td>\n",
       "      <td>1690.0</td>\n",
       "      <td>4.0</td>\n",
       "      <td>1991.0</td>\n",
       "      <td>0</td>\n",
       "      <td>7</td>\n",
       "      <td>0</td>\n",
       "      <td>0</td>\n",
       "      <td>1</td>\n",
       "      <td>36.0</td>\n",
       "      <td>-1</td>\n",
       "      <td>-301.0</td>\n",
       "      <td>0</td>\n",
       "    </tr>\n",
       "  </tbody>\n",
       "</table>\n",
       "</div>"
      ],
      "text/plain": [
       "     match_date         home_team_name away_team_name  home_team_score  \\\n",
       "649  2006-06-11  Serbia and Montenegro    Netherlands                0   \n",
       "\n",
       "     away_team_score  year  home_rank  home_score  away_rank  away_score  \\\n",
       "649                1  2006       40.0      1690.0        4.0      1991.0   \n",
       "\n",
       "     home_n_participation  away_n_participation  home_winner  draw  \\\n",
       "649                     0                     7            0     0   \n",
       "\n",
       "     away_winner  rank_diff  team_score_diff  score_diff  best_rank_winner  \n",
       "649            1       36.0               -1      -301.0                 0  "
      ]
     },
     "execution_count": 5,
     "metadata": {},
     "output_type": "execute_result"
    }
   ],
   "source": [
    "# vamos excluir esse Registro\n",
    "df[df['home_team_name'] == 'Serbia and Montenegro']"
   ]
  },
  {
   "cell_type": "code",
   "execution_count": 6,
   "id": "6863f6de",
   "metadata": {},
   "outputs": [],
   "source": [
    "df.dropna(inplace=True)"
   ]
  },
  {
   "cell_type": "code",
   "execution_count": 7,
   "id": "10b2db07",
   "metadata": {},
   "outputs": [
    {
     "data": {
      "text/plain": [
       "match_date               object\n",
       "home_team_name           object\n",
       "away_team_name           object\n",
       "home_team_score           int64\n",
       "away_team_score           int64\n",
       "year                      int64\n",
       "home_rank               float64\n",
       "home_score              float64\n",
       "away_rank               float64\n",
       "away_score              float64\n",
       "home_n_participation      int64\n",
       "away_n_participation      int64\n",
       "home_winner               int64\n",
       "draw                      int64\n",
       "away_winner               int64\n",
       "rank_diff               float64\n",
       "team_score_diff           int64\n",
       "score_diff              float64\n",
       "best_rank_winner          int64\n",
       "dtype: object"
      ]
     },
     "execution_count": 7,
     "metadata": {},
     "output_type": "execute_result"
    }
   ],
   "source": [
    "df.dtypes"
   ]
  },
  {
   "cell_type": "code",
   "execution_count": 8,
   "id": "b73368ab",
   "metadata": {},
   "outputs": [],
   "source": [
    "df_to_model = df.copy()\n",
    "df_to_model['participation_diff'] = df_to_model['home_n_participation'] - df_to_model['away_n_participation']\n",
    "\n",
    "df_to_model['target'] = df_to_model.apply(lambda x: \n",
    "                                          -1 if x['away_winner'] == 1 else 0 if x['draw'] == 1 else 1, axis=1)\n",
    "\n",
    "df_to_model.drop(['away_winner', 'draw', 'home_winner',\n",
    "                  'home_team_score', 'away_team_score', 'team_score_diff',\n",
    "                  'match_date', 'home_team_name', 'away_team_name', \n",
    "                  'best_rank_winner'], axis=1, inplace=True)"
   ]
  },
  {
   "cell_type": "code",
   "execution_count": 9,
   "id": "4cd18dfc",
   "metadata": {},
   "outputs": [
    {
     "data": {
      "text/html": [
       "<div>\n",
       "<style scoped>\n",
       "    .dataframe tbody tr th:only-of-type {\n",
       "        vertical-align: middle;\n",
       "    }\n",
       "\n",
       "    .dataframe tbody tr th {\n",
       "        vertical-align: top;\n",
       "    }\n",
       "\n",
       "    .dataframe thead th {\n",
       "        text-align: right;\n",
       "    }\n",
       "</style>\n",
       "<table border=\"1\" class=\"dataframe\">\n",
       "  <thead>\n",
       "    <tr style=\"text-align: right;\">\n",
       "      <th></th>\n",
       "      <th>year</th>\n",
       "      <th>home_rank</th>\n",
       "      <th>home_score</th>\n",
       "      <th>away_rank</th>\n",
       "      <th>away_score</th>\n",
       "      <th>home_n_participation</th>\n",
       "      <th>away_n_participation</th>\n",
       "      <th>rank_diff</th>\n",
       "      <th>score_diff</th>\n",
       "      <th>participation_diff</th>\n",
       "      <th>target</th>\n",
       "    </tr>\n",
       "  </thead>\n",
       "  <tbody>\n",
       "    <tr>\n",
       "      <th>0</th>\n",
       "      <td>1930</td>\n",
       "      <td>35.0</td>\n",
       "      <td>1566.0</td>\n",
       "      <td>41.0</td>\n",
       "      <td>1497.0</td>\n",
       "      <td>0</td>\n",
       "      <td>0</td>\n",
       "      <td>-6.0</td>\n",
       "      <td>69.0</td>\n",
       "      <td>0</td>\n",
       "      <td>1</td>\n",
       "    </tr>\n",
       "    <tr>\n",
       "      <th>1</th>\n",
       "      <td>1930</td>\n",
       "      <td>14.0</td>\n",
       "      <td>1762.0</td>\n",
       "      <td>31.0</td>\n",
       "      <td>1593.0</td>\n",
       "      <td>0</td>\n",
       "      <td>0</td>\n",
       "      <td>-17.0</td>\n",
       "      <td>169.0</td>\n",
       "      <td>0</td>\n",
       "      <td>1</td>\n",
       "    </tr>\n",
       "    <tr>\n",
       "      <th>2</th>\n",
       "      <td>1930</td>\n",
       "      <td>25.0</td>\n",
       "      <td>1658.0</td>\n",
       "      <td>9.0</td>\n",
       "      <td>1890.0</td>\n",
       "      <td>0</td>\n",
       "      <td>0</td>\n",
       "      <td>16.0</td>\n",
       "      <td>-232.0</td>\n",
       "      <td>0</td>\n",
       "      <td>1</td>\n",
       "    </tr>\n",
       "    <tr>\n",
       "      <th>3</th>\n",
       "      <td>1930</td>\n",
       "      <td>37.0</td>\n",
       "      <td>1544.0</td>\n",
       "      <td>42.0</td>\n",
       "      <td>1496.0</td>\n",
       "      <td>0</td>\n",
       "      <td>0</td>\n",
       "      <td>-5.0</td>\n",
       "      <td>48.0</td>\n",
       "      <td>0</td>\n",
       "      <td>1</td>\n",
       "    </tr>\n",
       "    <tr>\n",
       "      <th>4</th>\n",
       "      <td>1930</td>\n",
       "      <td>1.0</td>\n",
       "      <td>2062.0</td>\n",
       "      <td>35.0</td>\n",
       "      <td>1566.0</td>\n",
       "      <td>0</td>\n",
       "      <td>0</td>\n",
       "      <td>-34.0</td>\n",
       "      <td>496.0</td>\n",
       "      <td>0</td>\n",
       "      <td>1</td>\n",
       "    </tr>\n",
       "    <tr>\n",
       "      <th>...</th>\n",
       "      <td>...</td>\n",
       "      <td>...</td>\n",
       "      <td>...</td>\n",
       "      <td>...</td>\n",
       "      <td>...</td>\n",
       "      <td>...</td>\n",
       "      <td>...</td>\n",
       "      <td>...</td>\n",
       "      <td>...</td>\n",
       "      <td>...</td>\n",
       "      <td>...</td>\n",
       "    </tr>\n",
       "    <tr>\n",
       "      <th>895</th>\n",
       "      <td>2018</td>\n",
       "      <td>30.0</td>\n",
       "      <td>1753.0</td>\n",
       "      <td>10.0</td>\n",
       "      <td>1925.0</td>\n",
       "      <td>3</td>\n",
       "      <td>4</td>\n",
       "      <td>20.0</td>\n",
       "      <td>-172.0</td>\n",
       "      <td>-1</td>\n",
       "      <td>0</td>\n",
       "    </tr>\n",
       "    <tr>\n",
       "      <th>896</th>\n",
       "      <td>2018</td>\n",
       "      <td>2.0</td>\n",
       "      <td>2094.0</td>\n",
       "      <td>3.0</td>\n",
       "      <td>2035.0</td>\n",
       "      <td>14</td>\n",
       "      <td>12</td>\n",
       "      <td>-1.0</td>\n",
       "      <td>59.0</td>\n",
       "      <td>2</td>\n",
       "      <td>1</td>\n",
       "    </tr>\n",
       "    <tr>\n",
       "      <th>897</th>\n",
       "      <td>2018</td>\n",
       "      <td>10.0</td>\n",
       "      <td>1925.0</td>\n",
       "      <td>7.0</td>\n",
       "      <td>1960.0</td>\n",
       "      <td>4</td>\n",
       "      <td>14</td>\n",
       "      <td>3.0</td>\n",
       "      <td>-35.0</td>\n",
       "      <td>-10</td>\n",
       "      <td>1</td>\n",
       "    </tr>\n",
       "    <tr>\n",
       "      <th>898</th>\n",
       "      <td>2018</td>\n",
       "      <td>3.0</td>\n",
       "      <td>2035.0</td>\n",
       "      <td>7.0</td>\n",
       "      <td>1960.0</td>\n",
       "      <td>12</td>\n",
       "      <td>14</td>\n",
       "      <td>-4.0</td>\n",
       "      <td>75.0</td>\n",
       "      <td>-2</td>\n",
       "      <td>1</td>\n",
       "    </tr>\n",
       "    <tr>\n",
       "      <th>899</th>\n",
       "      <td>2018</td>\n",
       "      <td>2.0</td>\n",
       "      <td>2094.0</td>\n",
       "      <td>10.0</td>\n",
       "      <td>1925.0</td>\n",
       "      <td>14</td>\n",
       "      <td>4</td>\n",
       "      <td>-8.0</td>\n",
       "      <td>169.0</td>\n",
       "      <td>10</td>\n",
       "      <td>1</td>\n",
       "    </tr>\n",
       "  </tbody>\n",
       "</table>\n",
       "<p>899 rows × 11 columns</p>\n",
       "</div>"
      ],
      "text/plain": [
       "     year  home_rank  home_score  away_rank  away_score  home_n_participation  \\\n",
       "0    1930       35.0      1566.0       41.0      1497.0                     0   \n",
       "1    1930       14.0      1762.0       31.0      1593.0                     0   \n",
       "2    1930       25.0      1658.0        9.0      1890.0                     0   \n",
       "3    1930       37.0      1544.0       42.0      1496.0                     0   \n",
       "4    1930        1.0      2062.0       35.0      1566.0                     0   \n",
       "..    ...        ...         ...        ...         ...                   ...   \n",
       "895  2018       30.0      1753.0       10.0      1925.0                     3   \n",
       "896  2018        2.0      2094.0        3.0      2035.0                    14   \n",
       "897  2018       10.0      1925.0        7.0      1960.0                     4   \n",
       "898  2018        3.0      2035.0        7.0      1960.0                    12   \n",
       "899  2018        2.0      2094.0       10.0      1925.0                    14   \n",
       "\n",
       "     away_n_participation  rank_diff  score_diff  participation_diff  target  \n",
       "0                       0       -6.0        69.0                   0       1  \n",
       "1                       0      -17.0       169.0                   0       1  \n",
       "2                       0       16.0      -232.0                   0       1  \n",
       "3                       0       -5.0        48.0                   0       1  \n",
       "4                       0      -34.0       496.0                   0       1  \n",
       "..                    ...        ...         ...                 ...     ...  \n",
       "895                     4       20.0      -172.0                  -1       0  \n",
       "896                    12       -1.0        59.0                   2       1  \n",
       "897                    14        3.0       -35.0                 -10       1  \n",
       "898                    14       -4.0        75.0                  -2       1  \n",
       "899                     4       -8.0       169.0                  10       1  \n",
       "\n",
       "[899 rows x 11 columns]"
      ]
     },
     "execution_count": 9,
     "metadata": {},
     "output_type": "execute_result"
    }
   ],
   "source": [
    "df_to_model"
   ]
  },
  {
   "cell_type": "markdown",
   "id": "172661e9",
   "metadata": {},
   "source": [
    "## Feature Selection"
   ]
  },
  {
   "cell_type": "code",
   "execution_count": 10,
   "id": "8be8ca5e",
   "metadata": {},
   "outputs": [
    {
     "data": {
      "text/plain": [
       "[[0.0794, 'home_n_participation'],\n",
       " [0.0835, 'away_rank'],\n",
       " [0.0851, 'away_n_participation'],\n",
       " [0.0877, 'participation_diff'],\n",
       " [0.0988, 'home_score'],\n",
       " [0.0992, 'away_score'],\n",
       " [0.1019, 'home_rank'],\n",
       " [0.1041, 'year'],\n",
       " [0.1145, 'rank_diff'],\n",
       " [0.1459, 'score_diff']]"
      ]
     },
     "execution_count": 10,
     "metadata": {},
     "output_type": "execute_result"
    }
   ],
   "source": [
    "array = df_to_model.values\n",
    "\n",
    "# Separando o array em componentes de input e output\n",
    "X = array[:,:-1]\n",
    "Y = array[:,-1]\n",
    "\n",
    "# Criação do Modelo - Feature Selection\n",
    "modelo = ExtraTreesClassifier(random_state = 123)\n",
    "modelo.fit(X, Y)\n",
    "\n",
    "# Print dos Resultados\n",
    "res = [[round(modelo.feature_importances_[i],4),df_to_model.columns[i]] for i in range(len(df_to_model.columns)-1)]\n",
    "rescols = [x[1] for x in res]\n",
    "res.sort(); res"
   ]
  },
  {
   "cell_type": "code",
   "execution_count": 11,
   "id": "77cb32a4",
   "metadata": {},
   "outputs": [
    {
     "data": {
      "image/png": "[encoded data removed]",
      "text/plain": [
       "<Figure size 864x720 with 1 Axes>"
      ]
     },
     "metadata": {
      "needs_background": "light"
     },
     "output_type": "display_data"
    }
   ],
   "source": [
    "# Plot dos Resultados\n",
    "fig = plt.figure()\n",
    "fig.set_figheight(10)\n",
    "fig.set_figwidth(12)\n",
    "\n",
    "feat_importances = pd.Series(modelo.feature_importances_, index=rescols)\n",
    "feat_importances.nlargest(38).plot(kind='barh');"
   ]
  },
  {
   "cell_type": "markdown",
   "id": "939cba1f",
   "metadata": {},
   "source": [
    "As Variáveis apontadas mais importantes foram a diferença entre as pontuações no ranking ELO e a difernça posicional no ranking, porém como não existe muita discrepância, todas as variáveis serão mantidas."
   ]
  },
  {
   "cell_type": "code",
   "execution_count": 13,
   "id": "c2675309",
   "metadata": {},
   "outputs": [],
   "source": [
    "# Salvando os dados\n",
    "df_to_model.to_csv(data_path / '02_to_model_v1.csv', index=False)"
   ]
  }
 ],
 "metadata": {
  "kernelspec": {
   "display_name": "Python 3 (ipykernel)",
   "language": "python",
   "name": "python3"
  },
  "language_info": {
   "codemirror_mode": {
    "name": "ipython",
    "version": 3
   },
   "file_extension": ".py",
   "mimetype": "text/x-python",
   "name": "python",
   "nbconvert_exporter": "python",
   "pygments_lexer": "ipython3",
   "version": "3.9.12"
  }
 },
 "nbformat": 4,
 "nbformat_minor": 5
}
